{
 "cells": [
  {
   "cell_type": "code",
   "execution_count": 1,
   "metadata": {},
   "outputs": [],
   "source": [
    "import json\n",
    "import jsonschema\n",
    "from jsonschema import validate\n",
    "from pprint import pprint\n"
   ]
  },
  {
   "cell_type": "code",
   "execution_count": 2,
   "metadata": {},
   "outputs": [
    {
     "name": "stdout",
     "output_type": "stream",
     "text": [
      "{'ItemRegistry': {'Header': {'Address': {'Address1': '123 S Main St',\n",
      "                                         'AddressName': 'SPS Commerce',\n",
      "                                         'AddressTypeCode': 'RL',\n",
      "                                         'City': 'Minneapolis',\n",
      "                                         'PostalCode': '55123',\n",
      "                                         'State': 'MN'},\n",
      "                             'Contact': {'ContactEmail': 'jsmith@email.com',\n",
      "                                         'ContactName': 'John Smith',\n",
      "                                         'ContactPhone': '555-1234',\n",
      "                                         'ContactTypeCode': 'IC'},\n",
      "                             'HeaderReport': {'DocumentId': '12345678',\n",
      "                                              'InventoryDate': '2020-10-06',\n",
      "                                              'InventoryTime': '03:02:50',\n",
      "                                              'ReportTypeCode': 'MB',\n",
      "                                              'TradingPartnerId': '2308579000000481162',\n",
      "                                              'TsetPurposeCode': '00',\n",
      "                                              'Vendor': '2308579000000481162'}},\n",
      "                  'Structure': {'LineItem': [{'InventoryLine': {'LineSequenceNumber': '1',\n",
      "                                                                'VendorPartNumber': 'EH-HSGSM'},\n",
      "                                              'ProductOrItemDescription': {'ProductCharacteristicCode': '08',\n",
      "                                                                           'ProductDescription': 'Product '\n",
      "                                                                                                 'Description '\n",
      "                                                                                                 'Item '\n",
      "                                                                                                 '1'},\n",
      "                                              'QuantitiesSchedulesLocations': [{'Dates': {'Date': '2020-10-06',\n",
      "                                                                                          'DateTimeQualifier': '018'},\n",
      "                                                                                'QuantityQualifier': '33',\n",
      "                                                                                'TotalQty': '0',\n",
      "                                                                                'TotalQtyUOM': 'EA'},\n",
      "                                                                               {'Dates': {'Date': '2020-10-16',\n",
      "                                                                                          'DateTimeQualifier': '018'},\n",
      "                                                                                'QuantityQualifier': '29',\n",
      "                                                                                'TotalQty': '40',\n",
      "                                                                                'TotalQtyUOM': 'EA'}]},\n",
      "                                             {'InventoryLine': {'LineSequenceNumber': '2',\n",
      "                                                                'VendorPartNumber': 'EH-HSGSM2'},\n",
      "                                              'ProductOrItemDescription': {'ProductCharacteristicCode': '08',\n",
      "                                                                           'ProductDescription': 'Product '\n",
      "                                                                                                 'Description '\n",
      "                                                                                                 'Item '\n",
      "                                                                                                 '2'},\n",
      "                                              'QuantitiesSchedulesLocations': {'Dates': {'Date': '2020-10-06',\n",
      "                                                                                         'DateTimeQualifier': '018'},\n",
      "                                                                               'QuantityQualifier': '33',\n",
      "                                                                               'TotalQty': '60',\n",
      "                                                                               'TotalQtyUOM': 'EA'}},\n",
      "                                             {'InventoryLine': {'LineSequenceNumber': '3',\n",
      "                                                                'VendorPartNumber': 'EH-HSGSM3'},\n",
      "                                              'ProductOrItemDescription': {'ProductCharacteristicCode': '08',\n",
      "                                                                           'ProductDescription': 'Product '\n",
      "                                                                                                 'Description '\n",
      "                                                                                                 'Item '\n",
      "                                                                                                 '3'},\n",
      "                                              'QuantitiesSchedulesLocations': [{'Dates': {'Date': '2020-10-06',\n",
      "                                                                                          'DateTimeQualifier': '018'},\n",
      "                                                                                'QuantityQualifier': '33',\n",
      "                                                                                'TotalQty': '50',\n",
      "                                                                                'TotalQtyUOM': 'EA'},\n",
      "                                                                               {'Dates': {'Date': '2020-10-19',\n",
      "                                                                                          'DateTimeQualifier': '018'},\n",
      "                                                                                'QuantityQualifier': '29',\n",
      "                                                                                'TotalQty': '100',\n",
      "                                                                                'TotalQtyUOM': 'EA'}]}]},\n",
      "                  'Summary': {'TotalLineItemNumber': '3'}}}\n"
     ]
    }
   ],
   "source": [
    "with open('IB.json') as f:\n",
    "    data = json.load(f)\n",
    "    pprint(data)"
   ]
  },
  {
   "cell_type": "code",
   "execution_count": 3,
   "metadata": {},
   "outputs": [],
   "source": [
    "def validateJSON(data, schema):\n",
    "    try:\n",
    "        validate(instance=data, schema=schema)\n",
    "    except jsonschema.exceptions.ValidationError as err:\n",
    "        return False\n",
    "    return True"
   ]
  },
  {
   "cell_type": "code",
   "execution_count": 4,
   "metadata": {},
   "outputs": [],
   "source": [
    "# create schema for Header and Summary properties\n",
    "\n",
    "schema = {\n",
    "    \"type\": \"object\",\n",
    "    \"properties\": {\n",
    "            \"ItemRegistry\": {\n",
    "                \"type\": \"object\",\n",
    "                \"properties\": {\n",
    "                    \"Header\": {\n",
    "                        \"type\": \"object\",\n",
    "                        \"properties\": {\n",
    "                            \"Address\": {\n",
    "                                \"type\": \"object\",\n",
    "                                \"properties\": {\n",
    "                                    \"Address1\": {\"type\": \"string\"},\n",
    "                                    \"AddressName\": {\"type\": \"string\"},\n",
    "                                    \"AddressTypeCode\": {\"type\": \"string\"},\n",
    "                                    \"City\": {\"type\": \"string\"},\n",
    "                                    \"PostalCode\": {\"type\": \"string\"},\n",
    "                                    \"State\": {\"type\": \"string\"}\n",
    "                                },\n",
    "                                \"required\": [\"AddressTypeCode\", \"AddressName\", \"Address1\", \"City\", \"PostalCode\"]\n",
    "                            },\n",
    "                            \"HeaderReport\": {\n",
    "                                \"type\": \"object\",\n",
    "                                \"properties\": {\n",
    "                                    \"DocumentId\": {\"type\": \"string\"},\n",
    "                                    \"InventoryDate\": {\"type\": \"string\"},\n",
    "                                    \"InventoryTime\": {\"type\": \"string\"},\n",
    "                                    \"ReportTypeCode\": {\"type\": \"string\"},\n",
    "                                    \"TradingPartnerID\": {\"type\": \"string\"},\n",
    "                                    \"TsetPurposeCode\": {\"type\": \"string\"},\n",
    "                                    \"Vendor\": {\"type\": \"string\"}\n",
    "                                },\n",
    "                                \"required\": [\"DocumentId\", \"TsetPurposeCode\", \"InventoryDate\", \"InventoryTime\", \"Vendor\"]\n",
    "\n",
    "                            },\n",
    "                            \"Contact\": {\n",
    "                                \"type\": \"object\",\n",
    "                                \"properties\": {\n",
    "                                    \"ContactEmail\": {\"type\": \"string\"},\n",
    "                                    \"ContactName\": {\"type\": \"string\"},\n",
    "                                    \"Name\": {\"type\": \"string\"},\n",
    "                                    \"ContactPhone\": {\"type\": \"string\"},\n",
    "                                    \"ContactTypeCode\": {\"type\": \"string\"}\n",
    "                                },\n",
    "                                \"required\": [\"ContactTypeCode\", \"ContactName\"]\n",
    "                            }\n",
    "                        }\n",
    "                    },\n",
    "                    \"Summary\": {\n",
    "                        \"type\": \"object\",\n",
    "                        \"properties\": {\n",
    "                                \"TotalLineItemNumber\": {\"type\": \"string\"}\n",
    "    }}}}}}\n"
   ]
  },
  {
   "cell_type": "code",
   "execution_count": 5,
   "metadata": {},
   "outputs": [
    {
     "data": {
      "text/plain": [
       "True"
      ]
     },
     "execution_count": 5,
     "metadata": {},
     "output_type": "execute_result"
    }
   ],
   "source": [
    "validateJSON(data, schema)"
   ]
  },
  {
   "cell_type": "code",
   "execution_count": 6,
   "metadata": {},
   "outputs": [
    {
     "name": "stdout",
     "output_type": "stream",
     "text": [
      "{'LineItem': [{'InventoryLine': {'LineSequenceNumber': '1',\n",
      "                                 'VendorPartNumber': 'EH-HSGSM'},\n",
      "               'ProductOrItemDescription': {'ProductCharacteristicCode': '08',\n",
      "                                            'ProductDescription': 'Product '\n",
      "                                                                  'Description '\n",
      "                                                                  'Item 1'},\n",
      "               'QuantitiesSchedulesLocations': [{'Dates': {'Date': '2020-10-06',\n",
      "                                                           'DateTimeQualifier': '018'},\n",
      "                                                 'QuantityQualifier': '33',\n",
      "                                                 'TotalQty': '0',\n",
      "                                                 'TotalQtyUOM': 'EA'},\n",
      "                                                {'Dates': {'Date': '2020-10-16',\n",
      "                                                           'DateTimeQualifier': '018'},\n",
      "                                                 'QuantityQualifier': '29',\n",
      "                                                 'TotalQty': '40',\n",
      "                                                 'TotalQtyUOM': 'EA'}]},\n",
      "              {'InventoryLine': {'LineSequenceNumber': '2',\n",
      "                                 'VendorPartNumber': 'EH-HSGSM2'},\n",
      "               'ProductOrItemDescription': {'ProductCharacteristicCode': '08',\n",
      "                                            'ProductDescription': 'Product '\n",
      "                                                                  'Description '\n",
      "                                                                  'Item 2'},\n",
      "               'QuantitiesSchedulesLocations': {'Dates': {'Date': '2020-10-06',\n",
      "                                                          'DateTimeQualifier': '018'},\n",
      "                                                'QuantityQualifier': '33',\n",
      "                                                'TotalQty': '60',\n",
      "                                                'TotalQtyUOM': 'EA'}},\n",
      "              {'InventoryLine': {'LineSequenceNumber': '3',\n",
      "                                 'VendorPartNumber': 'EH-HSGSM3'},\n",
      "               'ProductOrItemDescription': {'ProductCharacteristicCode': '08',\n",
      "                                            'ProductDescription': 'Product '\n",
      "                                                                  'Description '\n",
      "                                                                  'Item 3'},\n",
      "               'QuantitiesSchedulesLocations': [{'Dates': {'Date': '2020-10-06',\n",
      "                                                           'DateTimeQualifier': '018'},\n",
      "                                                 'QuantityQualifier': '33',\n",
      "                                                 'TotalQty': '50',\n",
      "                                                 'TotalQtyUOM': 'EA'},\n",
      "                                                {'Dates': {'Date': '2020-10-19',\n",
      "                                                           'DateTimeQualifier': '018'},\n",
      "                                                 'QuantityQualifier': '29',\n",
      "                                                 'TotalQty': '100',\n",
      "                                                 'TotalQtyUOM': 'EA'}]}]}\n"
     ]
    }
   ],
   "source": [
    "pprint(data[\"ItemRegistry\"][\"Structure\"])\n"
   ]
  },
  {
   "cell_type": "code",
   "execution_count": 7,
   "metadata": {},
   "outputs": [
    {
     "data": {
      "text/plain": [
       "{'QuantitiesSchedulesLocations': [{'Dates': {'DateTimeQualifier': '018',\n",
       "    'Date': '2020-10-06'},\n",
       "   'TotalQtyUOM': 'EA',\n",
       "   'TotalQty': '0',\n",
       "   'QuantityQualifier': '33'},\n",
       "  {'Dates': {'DateTimeQualifier': '018', 'Date': '2020-10-16'},\n",
       "   'TotalQtyUOM': 'EA',\n",
       "   'TotalQty': '40',\n",
       "   'QuantityQualifier': '29'}],\n",
       " 'ProductOrItemDescription': {'ProductDescription': 'Product Description Item 1',\n",
       "  'ProductCharacteristicCode': '08'},\n",
       " 'InventoryLine': {'VendorPartNumber': 'EH-HSGSM', 'LineSequenceNumber': '1'}}"
      ]
     },
     "execution_count": 7,
     "metadata": {},
     "output_type": "execute_result"
    }
   ],
   "source": [
    "data = data[\"ItemRegistry\"][\"Structure\"][\"LineItem\"][0]\n",
    "data"
   ]
  },
  {
   "cell_type": "code",
   "execution_count": 8,
   "metadata": {},
   "outputs": [],
   "source": [
    "# create schema for structure property\n",
    "schema = {\n",
    "    \"type\": \"ojbect\",\n",
    "        \"properties\": {\n",
    "            'QuantitiesSchedulesLocations': {\n",
    "                \"type\": \"array\",\n",
    "                \"items\": {\n",
    "                    \"type\": \"object\",\n",
    "                    \"properties\": {\n",
    "                        \"Dates\": {\n",
    "                            \"type\": \"object\",\n",
    "                            \"properties\": {\n",
    "                                \"DateTimeQualifier\": {\"type\": \"string\"},\n",
    "                                \"Date\": {\"type\": \"string\"}\n",
    "                            }, \"required\": [\"Date\", \"DateTimeQualifier\"]\n",
    "                        },\n",
    "                        \"TotalQtyUOM\": {\"type\": \"string\"},\n",
    "                        \"TotalQty\": {\"type\": \"string\"},\n",
    "                        \"QuantityQualifier\": {\"type\": \"string\"}\n",
    "                    }, \"required\": [\"QuantityQualifier\", \"TotalQty\", \"TotalQtyUOM\"]\n",
    "                }\n",
    "            },\n",
    "            'ProductOrItemDescription': {\n",
    "                \"type\": \"object\",\n",
    "                    \"properties\": {\n",
    "                        \"ProductDescription\": {\"type\": \"string\"},\n",
    "                        \"ProductCharacteristicCode\": {\"type\": \"string\"}\n",
    "                    }, \"required\": [\"ProductCharacteristicCode\", \"ProductDescription\"]\n",
    "            },\n",
    "            'InventoryLine': {\n",
    "                \"type\": \"ojbect\",\n",
    "                    \"properties\": {\n",
    "                        \"VendorPartNumber\": {\"type\": \"string\"},\n",
    "                        \"LineSequenceNumber\": {\"type\": \"string\"}\n",
    "                    }, \"required\": [\"VendorPartNumber\"]\n",
    "            }\n",
    "    \n",
    "}}"
   ]
  },
  {
   "cell_type": "code",
   "execution_count": 9,
   "metadata": {},
   "outputs": [
    {
     "ename": "SchemaError",
     "evalue": "'ojbect' is not valid under any of the given schemas\n\nFailed validating 'anyOf' in metaschema['properties']['properties']['additionalProperties']['properties']['type']:\n    {'anyOf': [{'$ref': '#/definitions/simpleTypes'},\n               {'items': {'$ref': '#/definitions/simpleTypes'},\n                'minItems': 1,\n                'type': 'array',\n                'uniqueItems': True}]}\n\nOn schema['properties']['InventoryLine']['type']:\n    'ojbect'",
     "output_type": "error",
     "traceback": [
      "\u001b[0;31m---------------------------------------------------------------------------\u001b[0m",
      "\u001b[0;31mSchemaError\u001b[0m                               Traceback (most recent call last)",
      "\u001b[0;32m<ipython-input-9-87063c75834e>\u001b[0m in \u001b[0;36m<module>\u001b[0;34m\u001b[0m\n\u001b[0;32m----> 1\u001b[0;31m \u001b[0mvalidateJSON\u001b[0m\u001b[0;34m(\u001b[0m\u001b[0mdata\u001b[0m\u001b[0;34m,\u001b[0m \u001b[0mschema\u001b[0m\u001b[0;34m)\u001b[0m\u001b[0;34m\u001b[0m\u001b[0;34m\u001b[0m\u001b[0m\n\u001b[0m",
      "\u001b[0;32m<ipython-input-3-b76586bbbf42>\u001b[0m in \u001b[0;36mvalidateJSON\u001b[0;34m(data, schema)\u001b[0m\n\u001b[1;32m      1\u001b[0m \u001b[0;32mdef\u001b[0m \u001b[0mvalidateJSON\u001b[0m\u001b[0;34m(\u001b[0m\u001b[0mdata\u001b[0m\u001b[0;34m,\u001b[0m \u001b[0mschema\u001b[0m\u001b[0;34m)\u001b[0m\u001b[0;34m:\u001b[0m\u001b[0;34m\u001b[0m\u001b[0;34m\u001b[0m\u001b[0m\n\u001b[1;32m      2\u001b[0m     \u001b[0;32mtry\u001b[0m\u001b[0;34m:\u001b[0m\u001b[0;34m\u001b[0m\u001b[0;34m\u001b[0m\u001b[0m\n\u001b[0;32m----> 3\u001b[0;31m         \u001b[0mvalidate\u001b[0m\u001b[0;34m(\u001b[0m\u001b[0minstance\u001b[0m\u001b[0;34m=\u001b[0m\u001b[0mdata\u001b[0m\u001b[0;34m,\u001b[0m \u001b[0mschema\u001b[0m\u001b[0;34m=\u001b[0m\u001b[0mschema\u001b[0m\u001b[0;34m)\u001b[0m\u001b[0;34m\u001b[0m\u001b[0;34m\u001b[0m\u001b[0m\n\u001b[0m\u001b[1;32m      4\u001b[0m     \u001b[0;32mexcept\u001b[0m \u001b[0mjsonschema\u001b[0m\u001b[0;34m.\u001b[0m\u001b[0mexceptions\u001b[0m\u001b[0;34m.\u001b[0m\u001b[0mValidationError\u001b[0m \u001b[0;32mas\u001b[0m \u001b[0merr\u001b[0m\u001b[0;34m:\u001b[0m\u001b[0;34m\u001b[0m\u001b[0;34m\u001b[0m\u001b[0m\n\u001b[1;32m      5\u001b[0m         \u001b[0;32mreturn\u001b[0m \u001b[0;32mFalse\u001b[0m\u001b[0;34m\u001b[0m\u001b[0;34m\u001b[0m\u001b[0m\n",
      "\u001b[0;32m~/opt/anaconda3/envs/PythonData/lib/python3.6/site-packages/jsonschema/validators.py\u001b[0m in \u001b[0;36mvalidate\u001b[0;34m(instance, schema, cls, *args, **kwargs)\u001b[0m\n\u001b[1;32m    893\u001b[0m         \u001b[0mcls\u001b[0m \u001b[0;34m=\u001b[0m \u001b[0mvalidator_for\u001b[0m\u001b[0;34m(\u001b[0m\u001b[0mschema\u001b[0m\u001b[0;34m)\u001b[0m\u001b[0;34m\u001b[0m\u001b[0;34m\u001b[0m\u001b[0m\n\u001b[1;32m    894\u001b[0m \u001b[0;34m\u001b[0m\u001b[0m\n\u001b[0;32m--> 895\u001b[0;31m     \u001b[0mcls\u001b[0m\u001b[0;34m.\u001b[0m\u001b[0mcheck_schema\u001b[0m\u001b[0;34m(\u001b[0m\u001b[0mschema\u001b[0m\u001b[0;34m)\u001b[0m\u001b[0;34m\u001b[0m\u001b[0;34m\u001b[0m\u001b[0m\n\u001b[0m\u001b[1;32m    896\u001b[0m     \u001b[0mvalidator\u001b[0m \u001b[0;34m=\u001b[0m \u001b[0mcls\u001b[0m\u001b[0;34m(\u001b[0m\u001b[0mschema\u001b[0m\u001b[0;34m,\u001b[0m \u001b[0;34m*\u001b[0m\u001b[0margs\u001b[0m\u001b[0;34m,\u001b[0m \u001b[0;34m**\u001b[0m\u001b[0mkwargs\u001b[0m\u001b[0;34m)\u001b[0m\u001b[0;34m\u001b[0m\u001b[0;34m\u001b[0m\u001b[0m\n\u001b[1;32m    897\u001b[0m     \u001b[0merror\u001b[0m \u001b[0;34m=\u001b[0m \u001b[0mexceptions\u001b[0m\u001b[0;34m.\u001b[0m\u001b[0mbest_match\u001b[0m\u001b[0;34m(\u001b[0m\u001b[0mvalidator\u001b[0m\u001b[0;34m.\u001b[0m\u001b[0miter_errors\u001b[0m\u001b[0;34m(\u001b[0m\u001b[0minstance\u001b[0m\u001b[0;34m)\u001b[0m\u001b[0;34m)\u001b[0m\u001b[0;34m\u001b[0m\u001b[0;34m\u001b[0m\u001b[0m\n",
      "\u001b[0;32m~/opt/anaconda3/envs/PythonData/lib/python3.6/site-packages/jsonschema/validators.py\u001b[0m in \u001b[0;36mcheck_schema\u001b[0;34m(cls, schema)\u001b[0m\n\u001b[1;32m    287\u001b[0m         \u001b[0;32mdef\u001b[0m \u001b[0mcheck_schema\u001b[0m\u001b[0;34m(\u001b[0m\u001b[0mcls\u001b[0m\u001b[0;34m,\u001b[0m \u001b[0mschema\u001b[0m\u001b[0;34m)\u001b[0m\u001b[0;34m:\u001b[0m\u001b[0;34m\u001b[0m\u001b[0;34m\u001b[0m\u001b[0m\n\u001b[1;32m    288\u001b[0m             \u001b[0;32mfor\u001b[0m \u001b[0merror\u001b[0m \u001b[0;32min\u001b[0m \u001b[0mcls\u001b[0m\u001b[0;34m(\u001b[0m\u001b[0mcls\u001b[0m\u001b[0;34m.\u001b[0m\u001b[0mMETA_SCHEMA\u001b[0m\u001b[0;34m)\u001b[0m\u001b[0;34m.\u001b[0m\u001b[0miter_errors\u001b[0m\u001b[0;34m(\u001b[0m\u001b[0mschema\u001b[0m\u001b[0;34m)\u001b[0m\u001b[0;34m:\u001b[0m\u001b[0;34m\u001b[0m\u001b[0;34m\u001b[0m\u001b[0m\n\u001b[0;32m--> 289\u001b[0;31m                 \u001b[0;32mraise\u001b[0m \u001b[0mexceptions\u001b[0m\u001b[0;34m.\u001b[0m\u001b[0mSchemaError\u001b[0m\u001b[0;34m.\u001b[0m\u001b[0mcreate_from\u001b[0m\u001b[0;34m(\u001b[0m\u001b[0merror\u001b[0m\u001b[0;34m)\u001b[0m\u001b[0;34m\u001b[0m\u001b[0;34m\u001b[0m\u001b[0m\n\u001b[0m\u001b[1;32m    290\u001b[0m \u001b[0;34m\u001b[0m\u001b[0m\n\u001b[1;32m    291\u001b[0m         \u001b[0;32mdef\u001b[0m \u001b[0miter_errors\u001b[0m\u001b[0;34m(\u001b[0m\u001b[0mself\u001b[0m\u001b[0;34m,\u001b[0m \u001b[0minstance\u001b[0m\u001b[0;34m,\u001b[0m \u001b[0m_schema\u001b[0m\u001b[0;34m=\u001b[0m\u001b[0;32mNone\u001b[0m\u001b[0;34m)\u001b[0m\u001b[0;34m:\u001b[0m\u001b[0;34m\u001b[0m\u001b[0;34m\u001b[0m\u001b[0m\n",
      "\u001b[0;31mSchemaError\u001b[0m: 'ojbect' is not valid under any of the given schemas\n\nFailed validating 'anyOf' in metaschema['properties']['properties']['additionalProperties']['properties']['type']:\n    {'anyOf': [{'$ref': '#/definitions/simpleTypes'},\n               {'items': {'$ref': '#/definitions/simpleTypes'},\n                'minItems': 1,\n                'type': 'array',\n                'uniqueItems': True}]}\n\nOn schema['properties']['InventoryLine']['type']:\n    'ojbect'"
     ]
    }
   ],
   "source": [
    "validateJSON(data, schema)"
   ]
  },
  {
   "cell_type": "code",
   "execution_count": null,
   "metadata": {},
   "outputs": [],
   "source": []
  },
  {
   "cell_type": "code",
   "execution_count": null,
   "metadata": {},
   "outputs": [],
   "source": []
  },
  {
   "cell_type": "code",
   "execution_count": null,
   "metadata": {},
   "outputs": [],
   "source": []
  }
 ],
 "metadata": {
  "kernelspec": {
   "display_name": "Python [conda env:pythondata]",
   "language": "python",
   "name": "conda-env-pythondata-py"
  },
  "language_info": {
   "codemirror_mode": {
    "name": "ipython",
    "version": 3
   },
   "file_extension": ".py",
   "mimetype": "text/x-python",
   "name": "python",
   "nbconvert_exporter": "python",
   "pygments_lexer": "ipython3",
   "version": "3.6.10"
  }
 },
 "nbformat": 4,
 "nbformat_minor": 4
}
